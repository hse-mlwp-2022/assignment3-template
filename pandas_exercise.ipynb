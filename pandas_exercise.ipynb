{
 "cells": [
  {
   "cell_type": "markdown",
   "metadata": {},
   "source": [
    "# Homework 3. Pandas\n",
    "\n",
    "## Important notes\n",
    "\n",
    "1. *When you open this file on GitHub, copy the address to this file from the address bar of your browser. Now you can go to [Google Colab](https://colab.research.google.com/), click `File -> Open notebook -> GitHub`, paste the copied URL and click the search button (the one with the magnifying glass to the right of the search input box). Your personal copy of this notebook will now open on Google Colab.*\n",
    "2. *Do not delete or change variable names in the code cells below. You may add to each cell as many lines of code as you need, just make sure to assign your solution to the predefined variable(s) in the corresponding cell. Failing to do so will make the tests fail.*\n",
    "3. *To save your work, click `File -> Save a copy on GitHub` and __make sure to manually select the correct repository from the dropdown list__.*\n",
    "4. *If you mess up with this file and need to start from scratch, you can always find the original one [here](https://github.com/hse-mlwp-2022/assignment3-template/blob/main/pandas_exercise.ipynb). Just open it in Google Colab (see note 1) and save to your repository (see note 3). Remember to backup your code elsewhere, since this action will overwrite your previous work.* \n",
    "5. *Exercises 1-4 are mandatory. Your work __will not be graded__ if you fail any one of them. Exercises 5-8 are optional, you can skip them if you want*\n",
    "\n",
    "## About the Dataset\n",
    "\n",
    "We will be using 2019 flight statistics from the United States Department of Transportation’s Bureau of Transportation Statistics (available [here](https://www.transtats.bts.gov/DL_SelectFields.asp?gnoyr_VQ=FMF&QO_fu146_anzr=Nv4%20Pn44vr45) and in this repository as `data/T100_MARKET_ALL_CARRIER.zip`). Each row contains information about a specific route for a given carrier in a given month (e.g., JFK &rarr; LAX on Delta Airlines in January). There are 321,409 rows and 41 columns. Note that you don't need to unzip the file to read it in with `pd.read_csv()`.\n",
    "\n",
    "#### Exercises\n",
    "\n",
    "##### 1. Read in the data and convert the column names to lowercase to make them easier to work with."
   ]
  },
  {
   "cell_type": "code",
   "execution_count": null,
   "metadata": {},
   "outputs": [],
   "source": [
    "# Place your code to read the dataset here. Don't forget to import all the libraries you need!"
   ]
  },
  {
   "cell_type": "markdown",
   "metadata": {},
   "source": [
    "##### 2. What columns are in the data? (0.5 point)"
   ]
  },
  {
   "cell_type": "code",
   "execution_count": null,
   "metadata": {},
   "outputs": [],
   "source": [
    "columns = ... # Place your code here instead of '...'\n",
    "\n",
    "print(columns)"
   ]
  },
  {
   "cell_type": "markdown",
   "metadata": {},
   "source": [
    "##### 3. How many distinct carrier names are in the dataset? (0.5 point)"
   ]
  },
  {
   "cell_type": "code",
   "execution_count": null,
   "metadata": {},
   "outputs": [],
   "source": [
    "carrier_names = ... # Place your code here instead of '...'\n",
    "\n",
    "print(carrier_names)"
   ]
  },
  {
   "cell_type": "markdown",
   "metadata": {},
   "source": [
    "##### 4. Calculate the totals of the `freight`, `mail`, and `passengers` columns for flights from the United Kingdom to the United States. (1 point)"
   ]
  },
  {
   "cell_type": "code",
   "execution_count": null,
   "metadata": {},
   "outputs": [],
   "source": [
    "freight_total = ... # Place your code here instead of '...'\n",
    "mail_total = ... # Place your code here instead of '...'\n",
    "passengers_total = ... # Place your code here instead of '...'\n",
    "\n",
    "print(f\"freight total: {freight_total}\")\n",
    "print(f\"mail total: {mail_total}\")\n",
    "print(f\"passengers total: {passengers_total}\")"
   ]
  },
  {
   "cell_type": "markdown",
   "metadata": {},
   "source": [
    "##### 5. Which 10 carriers flew the most passengers out of the United States to another country? (1.5 points)\n",
    "The result should be a Python iterable, e.g. a list or a corresponding pandas object"
   ]
  },
  {
   "cell_type": "code",
   "execution_count": null,
   "metadata": {},
   "outputs": [],
   "source": [
    "top_10_by_passengers = ... # Place your code here instead of '...'\n",
    "\n",
    "print(f\"List of top 10 carriers with max number of passengers flown out of US: {top_10_by_passengers}\")"
   ]
  },
  {
   "cell_type": "markdown",
   "metadata": {},
   "source": [
    "##### 6. Between which two cities were the most passengers flown? Make sure to account for both directions. (1.5 points)"
   ]
  },
  {
   "cell_type": "code",
   "execution_count": null,
   "metadata": {},
   "outputs": [],
   "source": [
    "top_route_origin_city = ... # Place your code here instead of '...'\n",
    "top_route_dest_city = ... # Place your code here instead of '...'\n",
    "top_route_passengers_count = ... # Place your code here instead of '...'\n",
    "\n",
    "print(f\"top route is '{top_route_origin_city} - {top_route_dest_city}' with traffic of {top_route_passengers_count} passengers\")"
   ]
  },
  {
   "cell_type": "markdown",
   "metadata": {},
   "source": [
    "##### 7. Find the top 3 carriers for the pair of cities found in #6 and calculate the percentage of passengers each accounted for. (2 points)\n",
    "The result should be a pandas dataframe object with two columns: \n",
    "1. carrier name (string)\n",
    "2. percentage of passengers (float in the range of 0-100)"
   ]
  },
  {
   "cell_type": "code",
   "execution_count": null,
   "metadata": {},
   "outputs": [],
   "source": [
    "top_3_carriers_df = ... # Place your code here instead of '...'\n",
    "\n",
    "top_3_carriers_df"
   ]
  },
  {
   "cell_type": "markdown",
   "metadata": {},
   "source": [
    "##### 8. Find the percentage of international travel per country using total passengers on class F flights. (3 points)"
   ]
  },
  {
   "cell_type": "code",
   "execution_count": null,
   "metadata": {},
   "outputs": [],
   "source": [
    "international_travel_per_country = ... # Place your code here instead of '...'\n",
    "\n",
    "international_travel_per_country"
   ]
  }
 ],
 "metadata": {
  "kernelspec": {
   "display_name": "Python 3",
   "language": "python",
   "name": "python3"
  },
  "language_info": {
   "codemirror_mode": {
    "name": "ipython",
    "version": 3
   },
   "file_extension": ".py",
   "mimetype": "text/x-python",
   "name": "python",
   "nbconvert_exporter": "python",
   "pygments_lexer": "ipython3",
   "version": "3.7.6"
  }
 },
 "nbformat": 4,
 "nbformat_minor": 5
}
